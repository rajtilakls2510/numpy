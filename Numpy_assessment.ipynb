{
  "nbformat": 4,
  "nbformat_minor": 0,
  "metadata": {
    "colab": {
      "name": "Numpy-assessment.ipynb",
      "provenance": []
    },
    "kernelspec": {
      "display_name": "Python 3",
      "language": "python",
      "name": "python3"
    },
    "language_info": {
      "codemirror_mode": {
        "name": "ipython",
        "version": 3
      },
      "file_extension": ".py",
      "mimetype": "text/x-python",
      "name": "python",
      "nbconvert_exporter": "python",
      "pygments_lexer": "ipython3",
      "version": "3.6.5"
    }
  },
  "cells": [
    {
      "cell_type": "code",
      "metadata": {
        "id": "0ss15PRVvZ7S",
        "colab_type": "code",
        "colab": {}
      },
      "source": [
        "import numpy as np"
      ],
      "execution_count": 0,
      "outputs": []
    },
    {
      "cell_type": "markdown",
      "metadata": {
        "colab_type": "text",
        "id": "cCSwE1Usg72w"
      },
      "source": [
        "Q1. **Get the positions where elements of a and b match**\n",
        "\n",
        "Input:\n",
        "\n",
        "a = np.array([1,2,3,2,3,4,3,4,5,6])\n",
        "b = np.array([7,2,10,2,7,4,9,4,9,8])\n",
        "\n",
        "Output:\n",
        "\n",
        "(array([1, 3, 5, 7]),)\n",
        "\n"
      ]
    },
    {
      "cell_type": "code",
      "metadata": {
        "colab_type": "code",
        "id": "5B5wiT5hhfv7",
        "outputId": "a5c49f2e-c2ea-4694-e607-e38508c74e73",
        "colab": {}
      },
      "source": [
        "# Write code for Q1 here\n",
        "a=np.array([1,2,3,2,3,4,3,4,5,6])\n",
        "b=np.array([7,2,10,2,7,4,9,4,9,8])\n",
        "c=np.array([])\n",
        "\n",
        "\n",
        "for i in range(len(a)):\n",
        "    if a[i]==b[i]:\n",
        "        c=np.append(c,i)\n",
        "        \n",
        "\n",
        "print(tuple([c]))"
      ],
      "execution_count": 0,
      "outputs": [
        {
          "output_type": "stream",
          "text": [
            "(array([1., 3., 5., 7.]),)\n"
          ],
          "name": "stdout"
        }
      ]
    },
    {
      "cell_type": "markdown",
      "metadata": {
        "colab_type": "text",
        "id": "kKl5YKFqhNSM"
      },
      "source": [
        "Q2. **Get all items between 5 and 10 from a.**\n",
        "\n",
        "a = np.array([2, 6, 1, 9, 10, 3, 27])"
      ]
    },
    {
      "cell_type": "code",
      "metadata": {
        "colab_type": "code",
        "id": "qwC0XUjChK_T",
        "outputId": "53f844b7-f90e-4c4b-eaf7-1bdc86385628",
        "colab": {}
      },
      "source": [
        "# Write code for Q2 here\n",
        "\n",
        "# Excluding 5 and 10\n",
        "a = np.array([2, 6, 1, 9, 10, 3, 27])\n",
        "print(\"Excluding 5 and 10:\",a[(a>5) & (a<10)])\n",
        " \n",
        "# Including 5 and 10\n",
        "print(\"Including 5 and 10:\",a[(a>=5) & (a<=10)]) \n"
      ],
      "execution_count": 0,
      "outputs": [
        {
          "output_type": "stream",
          "text": [
            "Excluding 5 and 10: [6 9]\n",
            "Including 5 and 10: [ 6  9 10]\n"
          ],
          "name": "stdout"
        }
      ]
    },
    {
      "cell_type": "markdown",
      "metadata": {
        "colab_type": "text",
        "id": "Y9nOEHJJh29V"
      },
      "source": [
        "Q3. **Swap columns 1 and 2 in the array arr.**\n",
        "\n",
        "arr = np.arange(9).reshape(3,3)"
      ]
    },
    {
      "cell_type": "code",
      "metadata": {
        "colab_type": "code",
        "id": "k-3XCKJdh8Dr",
        "outputId": "4e9b412e-a5bf-4ab7-e232-770150e755d3",
        "colab": {}
      },
      "source": [
        "# Write code for Q3 here\n",
        "arr = np.arange(9).reshape(3,3)\n",
        "a1=arr[:,1].copy()\n",
        "arr[:,1]=arr[:,2]\n",
        "arr[:,2]=a1.T\n",
        "arr"
      ],
      "execution_count": 0,
      "outputs": [
        {
          "output_type": "execute_result",
          "data": {
            "text/plain": [
              "array([[0, 2, 1],\n",
              "       [3, 5, 4],\n",
              "       [6, 8, 7]])"
            ]
          },
          "metadata": {
            "tags": []
          },
          "execution_count": 93
        }
      ]
    },
    {
      "cell_type": "markdown",
      "metadata": {
        "colab_type": "text",
        "id": "kWevzjqWiAgN"
      },
      "source": [
        "Q4. Reverse the rows of a 2D array arr.\n",
        "\n",
        "arr = np.arange(9).reshape(3,3)"
      ]
    },
    {
      "cell_type": "code",
      "metadata": {
        "colab_type": "code",
        "id": "4rYagU47h_RU",
        "outputId": "e4edc881-b28e-409a-b08b-5df4d50bd2a8",
        "colab": {}
      },
      "source": [
        "# Write code for Q4 here\n",
        "arr = np.arange(9).reshape(3,3)\n",
        "arr[::-1]"
      ],
      "execution_count": 0,
      "outputs": [
        {
          "output_type": "execute_result",
          "data": {
            "text/plain": [
              "array([[6, 7, 8],\n",
              "       [3, 4, 5],\n",
              "       [0, 1, 2]])"
            ]
          },
          "metadata": {
            "tags": []
          },
          "execution_count": 94
        }
      ]
    },
    {
      "cell_type": "markdown",
      "metadata": {
        "colab_type": "text",
        "id": "BijNqssxiQpx"
      },
      "source": [
        "Q5. Find the 5th and 95th percentile of iris's sepallength\n",
        "Note - Find input code in the next cell"
      ]
    },
    {
      "cell_type": "code",
      "metadata": {
        "colab_type": "code",
        "id": "4kfYgwd5ioE0",
        "outputId": "c1944169-32e0-4a71-b4fa-115ad0c9116e",
        "colab": {
          "base_uri": "https://localhost:8080/",
          "height": 221
        }
      },
      "source": [
        "import numpy as np\n",
        "url = 'https://archive.ics.uci.edu/ml/machine-learning-databases/iris/iris.data'\n",
        "sepallength = np.genfromtxt(url, delimiter=',', dtype='float', usecols=[0])\n",
        "print(sepallength)\n",
        "\n",
        "# Write code for Q5 here\n",
        "print('5th percentile:',np.percentile(sepallength,5))\n",
        "print('95th percentile:',np.percentile(sepallength,95))"
      ],
      "execution_count": 0,
      "outputs": [
        {
          "output_type": "stream",
          "text": [
            "[5.1 4.9 4.7 4.6 5.  5.4 4.6 5.  4.4 4.9 5.4 4.8 4.8 4.3 5.8 5.7 5.4 5.1\n",
            " 5.7 5.1 5.4 5.1 4.6 5.1 4.8 5.  5.  5.2 5.2 4.7 4.8 5.4 5.2 5.5 4.9 5.\n",
            " 5.5 4.9 4.4 5.1 5.  4.5 4.4 5.  5.1 4.8 5.1 4.6 5.3 5.  7.  6.4 6.9 5.5\n",
            " 6.5 5.7 6.3 4.9 6.6 5.2 5.  5.9 6.  6.1 5.6 6.7 5.6 5.8 6.2 5.6 5.9 6.1\n",
            " 6.3 6.1 6.4 6.6 6.8 6.7 6.  5.7 5.5 5.5 5.8 6.  5.4 6.  6.7 6.3 5.6 5.5\n",
            " 5.5 6.1 5.8 5.  5.6 5.7 5.7 6.2 5.1 5.7 6.3 5.8 7.1 6.3 6.5 7.6 4.9 7.3\n",
            " 6.7 7.2 6.5 6.4 6.8 5.7 5.8 6.4 6.5 7.7 7.7 6.  6.9 5.6 7.7 6.3 6.7 7.2\n",
            " 6.2 6.1 6.4 7.2 7.4 7.9 6.4 6.3 6.1 7.7 6.3 6.4 6.  6.9 6.7 6.9 5.8 6.8\n",
            " 6.7 6.7 6.3 6.5 6.2 5.9]\n",
            "5th percentile: 4.6\n",
            "95th percentile: 7.254999999999998\n"
          ],
          "name": "stdout"
        }
      ]
    },
    {
      "cell_type": "markdown",
      "metadata": {
        "colab_type": "text",
        "id": "6CYl26T1i-f4"
      },
      "source": [
        "Q6. Find the positions of NaN in the sepalLength numpy array"
      ]
    },
    {
      "cell_type": "code",
      "metadata": {
        "colab_type": "code",
        "id": "LUMeHhQCiqN5",
        "outputId": "c361d321-1310-4f91-8d4c-17941e5bcd2e",
        "colab": {
          "base_uri": "https://localhost:8080/",
          "height": 221
        }
      },
      "source": [
        "# This is the input of your question\n",
        "url = 'https://archive.ics.uci.edu/ml/machine-learning-databases/iris/iris.data'\n",
        "iris_2d = np.genfromtxt(url, delimiter=',', dtype='float')\n",
        "iris_2d[np.random.randint(150, size=20), np.random.randint(4, size=20)] = np.nan\n",
        "\n",
        "sepalLength=iris_2d[:,0]\n",
        "# This is the sepalLength\n",
        "print(sepalLength)\n",
        "\n",
        "# Write your code here\n",
        "# Hint - You can use the isNan() function.\n",
        "c=np.isnan(sepalLength)\n",
        "d=np.argwhere(c)\n",
        "d.reshape(len(d))"
      ],
      "execution_count": 0,
      "outputs": [
        {
          "output_type": "stream",
          "text": [
            "[5.1 4.9 4.7 4.6 5.  5.4 4.6 5.  4.4 4.9 5.4 4.8 4.8 4.3 5.8 5.7 5.4 5.1\n",
            " 5.7 5.1 5.4 5.1 4.6 5.1 4.8 5.  5.  5.2 5.2 4.7 4.8 5.4 5.2 5.5 4.9 5.\n",
            " 5.5 nan 4.4 5.1 5.  4.5 4.4 5.  5.1 4.8 5.1 4.6 5.3 5.  7.  6.4 6.9 5.5\n",
            " 6.5 5.7 6.3 4.9 6.6 5.2 5.  5.9 6.  6.1 nan 6.7 5.6 5.8 6.2 5.6 5.9 6.1\n",
            " 6.3 6.1 6.4 6.6 6.8 6.7 6.  5.7 5.5 5.5 5.8 6.  5.4 6.  nan 6.3 5.6 5.5\n",
            " 5.5 6.1 5.8 5.  5.6 5.7 5.7 6.2 5.1 5.7 6.3 5.8 7.1 6.3 6.5 7.6 4.9 7.3\n",
            " 6.7 7.2 6.5 6.4 6.8 5.7 5.8 6.4 6.5 7.7 7.7 6.  6.9 5.6 7.7 6.3 6.7 7.2\n",
            " 6.2 6.1 6.4 7.2 7.4 7.9 6.4 6.3 6.1 7.7 6.3 6.4 6.  6.9 6.7 6.9 5.8 6.8\n",
            " 6.7 6.7 6.3 6.5 6.2 5.9]\n"
          ],
          "name": "stdout"
        },
        {
          "output_type": "execute_result",
          "data": {
            "text/plain": [
              "array([37, 64, 86], dtype=int64)"
            ]
          },
          "metadata": {
            "tags": []
          },
          "execution_count": 96
        }
      ]
    },
    {
      "cell_type": "markdown",
      "metadata": {
        "colab_type": "text",
        "id": "jFhzriKekbBa"
      },
      "source": [
        "Q7 .Replace all the null values with 0 in the above used sepalLength array"
      ]
    },
    {
      "cell_type": "code",
      "metadata": {
        "colab_type": "code",
        "id": "PnUjIs63jefg",
        "outputId": "34cb81a8-feca-45b7-afb1-cb73849d52b6",
        "colab": {}
      },
      "source": [
        "# Write your code here\n",
        "c=np.isnan(sepalLength)\n",
        "sepalLength[c]=0\n",
        "sepalLength"
      ],
      "execution_count": 0,
      "outputs": [
        {
          "output_type": "execute_result",
          "data": {
            "text/plain": [
              "array([5.1, 4.9, 4.7, 4.6, 5. , 5.4, 4.6, 5. , 4.4, 4.9, 5.4, 4.8, 4.8,\n",
              "       4.3, 5.8, 5.7, 5.4, 5.1, 5.7, 5.1, 5.4, 5.1, 4.6, 5.1, 4.8, 5. ,\n",
              "       5. , 5.2, 5.2, 4.7, 4.8, 5.4, 5.2, 5.5, 4.9, 5. , 5.5, 0. , 4.4,\n",
              "       5.1, 5. , 4.5, 4.4, 5. , 5.1, 4.8, 5.1, 4.6, 5.3, 5. , 7. , 6.4,\n",
              "       6.9, 5.5, 6.5, 5.7, 6.3, 4.9, 6.6, 5.2, 5. , 5.9, 6. , 6.1, 0. ,\n",
              "       6.7, 5.6, 5.8, 6.2, 5.6, 5.9, 6.1, 6.3, 6.1, 6.4, 6.6, 6.8, 6.7,\n",
              "       6. , 5.7, 5.5, 5.5, 5.8, 6. , 5.4, 6. , 0. , 6.3, 5.6, 5.5, 5.5,\n",
              "       6.1, 5.8, 5. , 5.6, 5.7, 5.7, 6.2, 5.1, 5.7, 6.3, 5.8, 7.1, 6.3,\n",
              "       6.5, 7.6, 4.9, 7.3, 6.7, 7.2, 6.5, 6.4, 6.8, 5.7, 5.8, 6.4, 6.5,\n",
              "       7.7, 7.7, 6. , 6.9, 5.6, 7.7, 6.3, 6.7, 7.2, 6.2, 6.1, 6.4, 7.2,\n",
              "       7.4, 7.9, 6.4, 6.3, 6.1, 7.7, 6.3, 6.4, 6. , 6.9, 6.7, 6.9, 5.8,\n",
              "       6.8, 6.7, 6.7, 6.3, 6.5, 6.2, 5.9])"
            ]
          },
          "metadata": {
            "tags": []
          },
          "execution_count": 97
        }
      ]
    },
    {
      "cell_type": "markdown",
      "metadata": {
        "colab_type": "text",
        "id": "wxTOw6hykmko"
      },
      "source": [
        "Q8. Find the 2nd largest value for the given array."
      ]
    },
    {
      "cell_type": "code",
      "metadata": {
        "colab_type": "code",
        "id": "4_HOzJJOk78a",
        "outputId": "f02f8e6f-c0b9-4f86-8929-a96c1263c967",
        "colab": {
          "base_uri": "https://localhost:8080/",
          "height": 68
        }
      },
      "source": [
        "# Input\n",
        "arr=np.random.randint(23,78, size=9).reshape(3,3)\n",
        "print(arr)\n",
        "\n",
        "# Write your code here\n",
        "arr1=arr.reshape(9)\n",
        "arr1[np.argsort(arr1)[-2]]"
      ],
      "execution_count": 0,
      "outputs": [
        {
          "output_type": "stream",
          "text": [
            "[[45 72 42]\n",
            " [75 56 43]\n",
            " [34 71 58]]\n"
          ],
          "name": "stdout"
        },
        {
          "output_type": "execute_result",
          "data": {
            "text/plain": [
              "72"
            ]
          },
          "metadata": {
            "tags": []
          },
          "execution_count": 98
        }
      ]
    },
    {
      "cell_type": "markdown",
      "metadata": {
        "colab_type": "text",
        "id": "qCccgKVnlKpZ"
      },
      "source": [
        "Q9. From the array a, replace all values greater than 30 by 30 and less than 10 by 10."
      ]
    },
    {
      "cell_type": "code",
      "metadata": {
        "colab_type": "code",
        "id": "r7ebd8SnlEn8",
        "outputId": "07ccca76-1cdf-486e-9322-c5281633ae0f",
        "colab": {
          "base_uri": "https://localhost:8080/",
          "height": 68
        }
      },
      "source": [
        "# Input\n",
        "arr=np.random.randint(1,78, size=9).reshape(3,3)\n",
        "print('Previous:',arr)\n",
        "\n",
        "# Write your code here\n",
        "arr[arr>30]=30\n",
        "arr[arr<10]=10\n",
        "print('New:',arr)"
      ],
      "execution_count": 0,
      "outputs": [
        {
          "output_type": "stream",
          "text": [
            "Previous: [[27  4 66]\n",
            " [55  9 54]\n",
            " [53 31 46]]\n",
            "New: [[27 10 30]\n",
            " [30 10 30]\n",
            " [30 30 30]]\n"
          ],
          "name": "stdout"
        }
      ]
    },
    {
      "cell_type": "markdown",
      "metadata": {
        "colab_type": "text",
        "id": "BtdfUWj0lyMf"
      },
      "source": [
        "Q10. Drop all nan values from a 1D numpy array"
      ]
    },
    {
      "cell_type": "code",
      "metadata": {
        "colab_type": "code",
        "id": "jd09glLJlsg4",
        "outputId": "9a5c6111-1e32-4de9-e0ba-e691a5c2cfd7",
        "colab": {
          "base_uri": "https://localhost:8080/",
          "height": 34
        }
      },
      "source": [
        "arr=np.array([1,2,3,np.nan,5,6,7,np.nan])\n",
        "print('Previous:',arr)\n",
        "\n",
        "# Write code here\n",
        "arr1=np.array([])\n",
        "for i in arr:\n",
        "    if not(np.isnan(i)):\n",
        "        arr1=np.append(arr1,i)\n",
        "print('Dropped ValueL',arr1)"
      ],
      "execution_count": 0,
      "outputs": [
        {
          "output_type": "stream",
          "text": [
            "Previous: [ 1.  2.  3. nan  5.  6.  7. nan]\n",
            "Dropped ValueL [1. 2. 3. 5. 6. 7.]\n"
          ],
          "name": "stdout"
        }
      ]
    },
    {
      "cell_type": "code",
      "metadata": {
        "id": "6y7YDdGevZ-r",
        "colab_type": "code",
        "colab": {}
      },
      "source": [
        ""
      ],
      "execution_count": 0,
      "outputs": []
    }
  ]
}