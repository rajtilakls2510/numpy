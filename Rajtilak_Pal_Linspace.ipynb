{
  "nbformat": 4,
  "nbformat_minor": 0,
  "metadata": {
    "colab": {
      "name": "Rajtilak Pal - Linspace.ipynb",
      "provenance": []
    },
    "kernelspec": {
      "name": "python3",
      "display_name": "Python 3"
    }
  },
  "cells": [
    {
      "cell_type": "code",
      "metadata": {
        "id": "1aKUuoCJo6DA",
        "colab_type": "code",
        "colab": {}
      },
      "source": [
        "def linspace(low,high,no_of_points=10):\n",
        "  \"\"\" \n",
        "  This function generates equal spaces points between the low value and high value provided \n",
        "  low: this parameter is the lowest value\n",
        "  high: this is the upper bound\n",
        "  no_of_points: The number of points to make equal spaced points\n",
        "  Returns the points as a list\n",
        "  \"\"\"\n",
        "  space=(high-low)/(no_of_points-1)\n",
        "  return [low+space*i for i in range(no_of_points)]\n"
      ],
      "execution_count": 0,
      "outputs": []
    },
    {
      "cell_type": "markdown",
      "metadata": {
        "id": "ksfcwikTQLVG",
        "colab_type": "text"
      },
      "source": [
        "**Examples**"
      ]
    },
    {
      "cell_type": "code",
      "metadata": {
        "id": "INAtWVaAPCw0",
        "colab_type": "code",
        "outputId": "c5caab33-6721-4e66-d84e-d45fca292d95",
        "colab": {
          "base_uri": "https://localhost:8080/",
          "height": 187
        }
      },
      "source": [
        "linspace(10,20,5)"
      ],
      "execution_count": 0,
      "outputs": [
        {
          "output_type": "execute_result",
          "data": {
            "text/plain": [
              "[10.0,\n",
              " 11.11111111111111,\n",
              " 12.222222222222221,\n",
              " 13.333333333333334,\n",
              " 14.444444444444445,\n",
              " 15.555555555555555,\n",
              " 16.666666666666668,\n",
              " 17.77777777777778,\n",
              " 18.88888888888889,\n",
              " 20.0]"
            ]
          },
          "metadata": {
            "tags": []
          },
          "execution_count": 2
        }
      ]
    },
    {
      "cell_type": "code",
      "metadata": {
        "id": "vhiZlEAQPFCD",
        "colab_type": "code",
        "outputId": "88326063-81f2-415a-dcbb-7137d71f15da",
        "colab": {
          "base_uri": "https://localhost:8080/",
          "height": 34
        }
      },
      "source": [
        "linspace(100,10,9)"
      ],
      "execution_count": 0,
      "outputs": [
        {
          "output_type": "execute_result",
          "data": {
            "text/plain": [
              "[100.0, 88.75, 77.5, 66.25, 55.0, 43.75, 32.5, 21.25, 10.0]"
            ]
          },
          "metadata": {
            "tags": []
          },
          "execution_count": 10
        }
      ]
    },
    {
      "cell_type": "code",
      "metadata": {
        "id": "QDeoMZY_P7Xa",
        "colab_type": "code",
        "outputId": "78fb8b33-f22d-40c4-abf7-3a5d393363b2",
        "colab": {
          "base_uri": "https://localhost:8080/",
          "height": 867
        }
      },
      "source": [
        "linspace(500,100000,50)"
      ],
      "execution_count": 0,
      "outputs": [
        {
          "output_type": "execute_result",
          "data": {
            "text/plain": [
              "[500.0,\n",
              " 2530.6122448979595,\n",
              " 4561.224489795919,\n",
              " 6591.836734693878,\n",
              " 8622.448979591838,\n",
              " 10653.061224489797,\n",
              " 12683.673469387755,\n",
              " 14714.285714285716,\n",
              " 16744.897959183676,\n",
              " 18775.510204081635,\n",
              " 20806.122448979593,\n",
              " 22836.73469387755,\n",
              " 24867.34693877551,\n",
              " 26897.95918367347,\n",
              " 28928.57142857143,\n",
              " 30959.18367346939,\n",
              " 32989.79591836735,\n",
              " 35020.40816326531,\n",
              " 37051.02040816327,\n",
              " 39081.63265306123,\n",
              " 41112.244897959186,\n",
              " 43142.857142857145,\n",
              " 45173.4693877551,\n",
              " 47204.08163265306,\n",
              " 49234.69387755102,\n",
              " 51265.30612244898,\n",
              " 53295.91836734694,\n",
              " 55326.530612244904,\n",
              " 57357.14285714286,\n",
              " 59387.75510204082,\n",
              " 61418.36734693878,\n",
              " 63448.97959183674,\n",
              " 65479.5918367347,\n",
              " 67510.20408163266,\n",
              " 69540.81632653062,\n",
              " 71571.42857142858,\n",
              " 73602.04081632654,\n",
              " 75632.6530612245,\n",
              " 77663.26530612246,\n",
              " 79693.87755102041,\n",
              " 81724.48979591837,\n",
              " 83755.10204081633,\n",
              " 85785.71428571429,\n",
              " 87816.32653061225,\n",
              " 89846.9387755102,\n",
              " 91877.55102040817,\n",
              " 93908.16326530612,\n",
              " 95938.77551020408,\n",
              " 97969.38775510204,\n",
              " 100000.0]"
            ]
          },
          "metadata": {
            "tags": []
          },
          "execution_count": 13
        }
      ]
    },
    {
      "cell_type": "code",
      "metadata": {
        "id": "0MTd-Hb7QTVk",
        "colab_type": "code",
        "outputId": "240ab3ee-d4d2-46a0-8f28-80c3da173210",
        "colab": {
          "base_uri": "https://localhost:8080/",
          "height": 34
        }
      },
      "source": [
        "linspace(10,100,-5)"
      ],
      "execution_count": 0,
      "outputs": [
        {
          "output_type": "execute_result",
          "data": {
            "text/plain": [
              "[]"
            ]
          },
          "metadata": {
            "tags": []
          },
          "execution_count": 14
        }
      ]
    }
  ]
}