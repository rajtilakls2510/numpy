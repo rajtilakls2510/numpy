{
  "nbformat": 4,
  "nbformat_minor": 0,
  "metadata": {
    "colab": {
      "name": "Rajtilak Pal - numpy-assignment-5.ipynb",
      "provenance": [],
      "collapsed_sections": []
    },
    "kernelspec": {
      "name": "python3",
      "display_name": "Python 3"
    }
  },
  "cells": [
    {
      "cell_type": "markdown",
      "metadata": {
        "id": "HHEofVKhbKOJ",
        "colab_type": "text"
      },
      "source": [
        "Let me tell you a story, Once a statistician was lost in a jungle. It was pitch dark. Nothing could be seen around. The statistician was afraid but he kept moving. Suddenly, he saw a small house. He went there and knocked on the door. Someone opened the door. \n",
        "\n",
        "Guess what was the first question that came out of the statistician's mouth...\n",
        "\n",
        "Bhaiya, yahan kahin aas paas Normal Distribution milega?\n",
        "\n",
        "That's how important Normal distribution is in a Statistician's (read, Data Analyst) life. Whenever a statistician is lost in an analysis, his/her first response is to reach or find a normal distribution somewhere. \n",
        "\n",
        "![alt text](https://media2.giphy.com/media/maIEBUU5OmrMA/source.gif)\n",
        "\n",
        "Although, we are going to study Normal Distribution in future episodes:). Today I want you to get a feel of the Normal/Gaussian Distribution."
      ]
    },
    {
      "cell_type": "markdown",
      "metadata": {
        "id": "udWaNZcNehRo",
        "colab_type": "text"
      },
      "source": [
        "In a normal distribution, there are 2 things of utmost importance, Mean and the Standard Deviation. ([Read more about Normal Distribution here](https://en.wikipedia.org/wiki/Normal_distribution)).\n",
        "\n",
        "I want you to create a function which takes 2 inputs - the Mean and Standard Deviation and prints out the graph of the Normal Distribution (also known as PDF, you will find the formula in the wiki article). Assume x is given and calculate y using the pdf formula. The resultant graph would look something like this (any one of them):!\n",
        "\n",
        "![](https://upload.wikimedia.org/wikipedia/commons/thumb/7/74/Normal_Distribution_PDF.svg/340px-Normal_Distribution_PDF.svg.png)"
      ]
    },
    {
      "cell_type": "code",
      "metadata": {
        "id": "fhPRbXGiXaoK",
        "colab_type": "code",
        "outputId": "f75c9369-4fba-416d-8ab2-00d3ca1b360b",
        "colab": {
          "base_uri": "https://localhost:8080/",
          "height": 279
        }
      },
      "source": [
        "import numpy as np\n",
        "import matplotlib.pyplot as plt\n",
        "# Finds normal distribution\n",
        "def normal_dist(x,u,sigma):\n",
        "    return np.exp(-1.0/2*((x-u)/sigma)**2)/(sigma*np.sqrt(2*np.pi))\n",
        "\n",
        "# Write function code here\n",
        "def plotter(meanValue,sdValue):\n",
        "  x=np.linspace(-10,10,100)\n",
        "  y=[normal_dist(j,meanValue,sdValue) for j in x]\n",
        "  plt.plot(x,y)\n",
        "  plt.xlabel('x-->')\n",
        "  plt.ylabel('y-->')\n",
        "  \n",
        "  \n",
        "\n",
        "# Defining discrete values of mean and std to be worked upon\n",
        "u=[0,0,0,-2]\n",
        "sigma=[np.sqrt(0.2),np.sqrt(1.0),np.sqrt(5.0),np.sqrt(0.5)]\n",
        "\n",
        "# Plotting the means and stds \n",
        "for i in range(len(u)):\n",
        "  plotter(u[i],sigma[i])\n",
        "\n"
      ],
      "execution_count": 0,
      "outputs": [
        {
          "output_type": "display_data",
          "data": {
            "image/png": "[encoded data removed]",
            "text/plain": [
              "<Figure size 432x288 with 1 Axes>"
            ]
          },
          "metadata": {
            "tags": []
          }
        }
      ]
    },
    {
      "cell_type": "code",
      "metadata": {
        "id": "p9x7LVMBgs43",
        "colab_type": "code",
        "colab": {}
      },
      "source": [
        "# You have write a function which takes 2 numpy array as input and returns \"Hoga\" or \"Nahi Hoga\" \n",
        "# depending on if broadcasting is possible on those two arrays"
      ],
      "execution_count": 0,
      "outputs": []
    },
    {
      "cell_type": "code",
      "metadata": {
        "id": "1G3RYovHJRYj",
        "colab_type": "code",
        "colab": {}
      },
      "source": [
        "# Write your logic here\n",
        "def hoga_ki_nahi(arr1,arr2):\n",
        "    shape1=list(arr1.shape)\n",
        "    shape2=list(arr2.shape)\n",
        "    for i in range(len(shape1)-len(shape2)):\n",
        "        shape2.append(1)\n",
        "    for i in range(len(shape2)-len(shape1)):\n",
        "        shape1.append(1)\n",
        "    temp1=np.array([])\n",
        "    temp2=np.array([])\n",
        "    for i in range(len(shape1)):\n",
        "        if shape1[i]==1:\n",
        "            temp1=np.append(temp1,shape2[i])\n",
        "            temp2=np.append(temp2,shape2[i])\n",
        "        elif shape2[i]==1:\n",
        "            temp1=np.append(temp1,shape1[i])\n",
        "            temp2=np.append(temp2,shape1[i])\n",
        "        else:\n",
        "            temp1=np.append(temp1,shape1[i])\n",
        "            temp2=np.append(temp2,shape2[i])\n",
        "            \n",
        "    if (temp1==temp2).sum()==len(temp1):\n",
        "        return 'Hoga'\n",
        "    return \"Nhi Hoga\""
      ],
      "execution_count": 0,
      "outputs": []
    },
    {
      "cell_type": "code",
      "metadata": {
        "id": "ea_WqWO_Y83z",
        "colab_type": "code",
        "colab": {}
      },
      "source": [
        ""
      ],
      "execution_count": 0,
      "outputs": []
    },
    {
      "cell_type": "code",
      "metadata": {
        "id": "HxyIWB__JUJQ",
        "colab_type": "code",
        "outputId": "a3b80f2b-13c1-4b93-fe4e-9f51bb1a2d40",
        "colab": {
          "base_uri": "https://localhost:8080/",
          "height": 34
        }
      },
      "source": [
        "# Test your function here\n",
        "arr1=np.arange(8).reshape(2,4)\n",
        "arr2=np.arange(8,16).reshape(2,4)\n",
        "hoga_ki_nahi(arr1,arr2)"
      ],
      "execution_count": 0,
      "outputs": [
        {
          "output_type": "execute_result",
          "data": {
            "text/plain": [
              "'Hoga'"
            ]
          },
          "metadata": {
            "tags": []
          },
          "execution_count": 5
        }
      ]
    },
    {
      "cell_type": "code",
      "metadata": {
        "id": "7K1Tmnq7t8gk",
        "colab_type": "code",
        "outputId": "7171557c-4905-4f33-f316-da8c79e94334",
        "colab": {
          "base_uri": "https://localhost:8080/",
          "height": 34
        }
      },
      "source": [
        "arr1=np.arange(9).reshape(3,3)\n",
        "arr2=np.arange(3).reshape(1,3)\n",
        "hoga_ki_nahi(arr1,arr2)"
      ],
      "execution_count": 0,
      "outputs": [
        {
          "output_type": "execute_result",
          "data": {
            "text/plain": [
              "'Hoga'"
            ]
          },
          "metadata": {
            "tags": []
          },
          "execution_count": 6
        }
      ]
    },
    {
      "cell_type": "code",
      "metadata": {
        "id": "XWtAQTExuTgp",
        "colab_type": "code",
        "outputId": "2ba303f6-fa0e-4748-d082-d0bc291b92a6",
        "colab": {
          "base_uri": "https://localhost:8080/",
          "height": 34
        }
      },
      "source": [
        "arr1=np.arange(3).reshape(1,3)\n",
        "arr2=np.arange(12).reshape(4,3)\n",
        "hoga_ki_nahi(arr1,arr2)"
      ],
      "execution_count": 0,
      "outputs": [
        {
          "output_type": "execute_result",
          "data": {
            "text/plain": [
              "'Hoga'"
            ]
          },
          "metadata": {
            "tags": []
          },
          "execution_count": 7
        }
      ]
    },
    {
      "cell_type": "code",
      "metadata": {
        "id": "QgUXLvSPui8R",
        "colab_type": "code",
        "outputId": "99ba1d6d-cfa0-4ad1-fe25-385167a6070d",
        "colab": {
          "base_uri": "https://localhost:8080/",
          "height": 34
        }
      },
      "source": [
        "arr1=np.arange(4).reshape(1,4)\n",
        "arr2=np.arange(12).reshape(3,4)\n",
        "hoga_ki_nahi(arr1,arr2)"
      ],
      "execution_count": 0,
      "outputs": [
        {
          "output_type": "execute_result",
          "data": {
            "text/plain": [
              "'Hoga'"
            ]
          },
          "metadata": {
            "tags": []
          },
          "execution_count": 8
        }
      ]
    },
    {
      "cell_type": "code",
      "metadata": {
        "id": "d9P7u-Czur69",
        "colab_type": "code",
        "outputId": "980bcd79-c228-47ab-f1a0-dd48013ec714",
        "colab": {
          "base_uri": "https://localhost:8080/",
          "height": 34
        }
      },
      "source": [
        "arr1=np.arange(3).reshape(1,3)\n",
        "arr2=np.arange(16).reshape(4,4)\n",
        "hoga_ki_nahi(arr1,arr2)"
      ],
      "execution_count": 0,
      "outputs": [
        {
          "output_type": "execute_result",
          "data": {
            "text/plain": [
              "'Nhi Hoga'"
            ]
          },
          "metadata": {
            "tags": []
          },
          "execution_count": 9
        }
      ]
    },
    {
      "cell_type": "code",
      "metadata": {
        "id": "jCpWgWnVuv9y",
        "colab_type": "code",
        "outputId": "ee326921-f705-4845-a2a0-ea8413c81695",
        "colab": {
          "base_uri": "https://localhost:8080/",
          "height": 34
        }
      },
      "source": [
        "arr1=np.arange(3).reshape(1,3)\n",
        "arr2=np.arange(3).reshape(3,1)\n",
        "hoga_ki_nahi(arr1,arr2)"
      ],
      "execution_count": 0,
      "outputs": [
        {
          "output_type": "execute_result",
          "data": {
            "text/plain": [
              "'Hoga'"
            ]
          },
          "metadata": {
            "tags": []
          },
          "execution_count": 10
        }
      ]
    },
    {
      "cell_type": "code",
      "metadata": {
        "id": "mqgvfRZ-vB9G",
        "colab_type": "code",
        "outputId": "e56e6d0c-4d6f-40f1-c08f-ae0641fc073d",
        "colab": {
          "base_uri": "https://localhost:8080/",
          "height": 34
        }
      },
      "source": [
        "arr1=np.arange(2).reshape(1,1,2)\n",
        "arr2=np.arange(20).reshape(4,5)\n",
        "hoga_ki_nahi(arr1,arr2)"
      ],
      "execution_count": 0,
      "outputs": [
        {
          "output_type": "execute_result",
          "data": {
            "text/plain": [
              "'Hoga'"
            ]
          },
          "metadata": {
            "tags": []
          },
          "execution_count": 13
        }
      ]
    },
    {
      "cell_type": "code",
      "metadata": {
        "id": "fBOt4tOYvNxD",
        "colab_type": "code",
        "colab": {}
      },
      "source": [
        ""
      ],
      "execution_count": 0,
      "outputs": []
    }
  ]
}